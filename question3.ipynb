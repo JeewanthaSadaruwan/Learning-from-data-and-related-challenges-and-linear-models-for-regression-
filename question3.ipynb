{
 "cells": [
  {
   "cell_type": "markdown",
   "id": "a4dafa38",
   "metadata": {},
   "source": [
    "### 3. Data Pre-processing\n",
    "\n",
    "1. Generate feature values for two features using the code provided in Listing 1.\n",
    "2. Consider the following scaling methods:\n",
    "   - (a) Standard scaling\n",
    "   - (b) Min-max scaling\n",
    "   - (c) Max-abs scaling\n",
    "\n",
    "Select one scaling method for each feature, ensuring that the chosen method preserves the structure and properties of the features. Justify your answer."
   ]
  }
 ],
 "metadata": {
  "language_info": {
   "name": "python"
  }
 },
 "nbformat": 4,
 "nbformat_minor": 5
}
